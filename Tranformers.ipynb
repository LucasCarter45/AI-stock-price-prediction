{
 "cells": [
  {
   "cell_type": "code",
   "execution_count": 1,
   "metadata": {},
   "outputs": [],
   "source": [
    "# Getting imports\n",
    "import pandas as pd\n",
    "import tensorflow as tf\n",
    "from tensorflow.keras.models import Sequential\n",
    "from tensorflow.keras.layers import LSTM, Dense\n",
    "import plotly.graph_objects as go\n",
    "import matplotlib.pyplot as plt\n",
    "import matplotlib.dates as mdates\n",
    "import matplotlib.ticker as mticker\n",
    "import mplfinance as mpf\n",
    "from sklearn.metrics import accuracy_score, classification_report\n",
    "from matplotlib.patches import Rectangle\n",
    "import matplotlib.dates as mdates"
   ]
  },
  {
   "cell_type": "code",
   "execution_count": 5,
   "metadata": {},
   "outputs": [],
   "source": [
    "# Load data\n",
    "df = pd.read_csv(\"UNIONBANK__EQ__NSE__NSE__MINUTE.csv\", parse_dates=[\"timestamp\"])\n",
    "\n",
    "# Convert to daily data\n",
    "df[\"date\"] = df[\"timestamp\"].dt.date\n",
    "daily_df = df.groupby(\"date\").agg({\n",
    "    \"open\": \"first\",  # First value of the day\n",
    "    \"close\": \"last\",   # Last value of the day\n",
    "    \"volume\": \"sum\",   # Total volume\n",
    "})\n",
    "\n",
    "# Create target column (next day's movement)\n",
    "daily_df[\"Next_Close\"] = daily_df[\"close\"].shift(-1)  # Future close price\n",
    "daily_df[\"Target\"] = (daily_df[\"Next_Close\"] > daily_df[\"close\"]).astype(int)  # 1=Up, 0=Down\n",
    "\n",
    "# Drop last row (no future data for it)\n",
    "daily_df = daily_df[:-1]"
   ]
  },
  {
   "cell_type": "code",
   "execution_count": 6,
   "metadata": {},
   "outputs": [
    {
     "name": "stdout",
     "output_type": "stream",
     "text": [
      "Epoch 1/10\n"
     ]
    },
    {
     "name": "stderr",
     "output_type": "stream",
     "text": [
      "c:\\Users\\charl\\OneDrive\\Documents\\GitHub\\AI-stock-price-prediction\\.venv\\Lib\\site-packages\\keras\\src\\layers\\rnn\\rnn.py:200: UserWarning: Do not pass an `input_shape`/`input_dim` argument to a layer. When using Sequential models, prefer using an `Input(shape)` object as the first layer in the model instead.\n",
      "  super().__init__(**kwargs)\n"
     ]
    },
    {
     "name": "stdout",
     "output_type": "stream",
     "text": [
      "\u001b[1m48/48\u001b[0m \u001b[32m━━━━━━━━━━━━━━━━━━━━\u001b[0m\u001b[37m\u001b[0m \u001b[1m4s\u001b[0m 23ms/step - accuracy: 0.5545 - loss: 0.6886 - val_accuracy: 0.5389 - val_loss: 0.6902\n",
      "Epoch 2/10\n",
      "\u001b[1m48/48\u001b[0m \u001b[32m━━━━━━━━━━━━━━━━━━━━\u001b[0m\u001b[37m\u001b[0m \u001b[1m1s\u001b[0m 14ms/step - accuracy: 0.5682 - loss: 0.6872 - val_accuracy: 0.4611 - val_loss: 0.7038\n",
      "Epoch 3/10\n",
      "\u001b[1m48/48\u001b[0m \u001b[32m━━━━━━━━━━━━━━━━━━━━\u001b[0m\u001b[37m\u001b[0m \u001b[1m1s\u001b[0m 15ms/step - accuracy: 0.5188 - loss: 0.6936 - val_accuracy: 0.5389 - val_loss: 0.6903\n",
      "Epoch 4/10\n",
      "\u001b[1m48/48\u001b[0m \u001b[32m━━━━━━━━━━━━━━━━━━━━\u001b[0m\u001b[37m\u001b[0m \u001b[1m1s\u001b[0m 15ms/step - accuracy: 0.5824 - loss: 0.6857 - val_accuracy: 0.5389 - val_loss: 0.6916\n",
      "Epoch 5/10\n",
      "\u001b[1m48/48\u001b[0m \u001b[32m━━━━━━━━━━━━━━━━━━━━\u001b[0m\u001b[37m\u001b[0m \u001b[1m1s\u001b[0m 14ms/step - accuracy: 0.5403 - loss: 0.6919 - val_accuracy: 0.5389 - val_loss: 0.6903\n",
      "Epoch 6/10\n",
      "\u001b[1m48/48\u001b[0m \u001b[32m━━━━━━━━━━━━━━━━━━━━\u001b[0m\u001b[37m\u001b[0m \u001b[1m1s\u001b[0m 14ms/step - accuracy: 0.5440 - loss: 0.6906 - val_accuracy: 0.5389 - val_loss: 0.6903\n",
      "Epoch 7/10\n",
      "\u001b[1m48/48\u001b[0m \u001b[32m━━━━━━━━━━━━━━━━━━━━\u001b[0m\u001b[37m\u001b[0m \u001b[1m1s\u001b[0m 15ms/step - accuracy: 0.5701 - loss: 0.6880 - val_accuracy: 0.5389 - val_loss: 0.6905\n",
      "Epoch 8/10\n",
      "\u001b[1m48/48\u001b[0m \u001b[32m━━━━━━━━━━━━━━━━━━━━\u001b[0m\u001b[37m\u001b[0m \u001b[1m1s\u001b[0m 14ms/step - accuracy: 0.5038 - loss: 0.6950 - val_accuracy: 0.5389 - val_loss: 0.6907\n",
      "Epoch 9/10\n",
      "\u001b[1m48/48\u001b[0m \u001b[32m━━━━━━━━━━━━━━━━━━━━\u001b[0m\u001b[37m\u001b[0m \u001b[1m1s\u001b[0m 15ms/step - accuracy: 0.5532 - loss: 0.6881 - val_accuracy: 0.5389 - val_loss: 0.6902\n",
      "Epoch 10/10\n",
      "\u001b[1m48/48\u001b[0m \u001b[32m━━━━━━━━━━━━━━━━━━━━\u001b[0m\u001b[37m\u001b[0m \u001b[1m1s\u001b[0m 13ms/step - accuracy: 0.5564 - loss: 0.6888 - val_accuracy: 0.5389 - val_loss: 0.6903\n"
     ]
    },
    {
     "data": {
      "text/plain": [
       "<keras.src.callbacks.history.History at 0x241f6ac7010>"
      ]
     },
     "execution_count": 6,
     "metadata": {},
     "output_type": "execute_result"
    }
   ],
   "source": [
    "# Prepare input data (X = past N days, Y = next day's movement)\n",
    "N_DAYS = 30  # Use last 10 days to predict next day\n",
    "X, Y = [], []\n",
    "\n",
    "for i in range(len(daily_df) - N_DAYS):\n",
    "    X.append(daily_df.iloc[i:i+N_DAYS, :-2].values)  # Features\n",
    "    Y.append(daily_df.iloc[i+N_DAYS][\"Target\"])      # Label\n",
    "\n",
    "import numpy as np\n",
    "X, Y = np.array(X), np.array(Y)\n",
    "\n",
    "# Build LSTM Model\n",
    "model = Sequential([\n",
    "    LSTM(50, return_sequences=True, input_shape=(N_DAYS, X.shape[2])),\n",
    "    LSTM(50),\n",
    "    Dense(1, activation=\"sigmoid\")  # Binary classification (Up/Down)\n",
    "])\n",
    "\n",
    "model.compile(optimizer=\"adam\", loss=\"binary_crossentropy\", metrics=[\"accuracy\"])\n",
    "\n",
    "# Train model\n",
    "model.fit(X, Y, epochs=10, batch_size=16, validation_split=0.2)\n",
    "\n"
   ]
  },
  {
   "cell_type": "code",
   "execution_count": 7,
   "metadata": {},
   "outputs": [
    {
     "name": "stdout",
     "output_type": "stream",
     "text": [
      "\u001b[1m1/1\u001b[0m \u001b[32m━━━━━━━━━━━━━━━━━━━━\u001b[0m\u001b[37m\u001b[0m \u001b[1m0s\u001b[0m 299ms/step\n",
      "Predicted movement: Stock will go DOWN tomorrow.\n",
      "\u001b[1m31/31\u001b[0m \u001b[32m━━━━━━━━━━━━━━━━━━━━\u001b[0m\u001b[37m\u001b[0m \u001b[1m0s\u001b[0m 7ms/step\n",
      "Training Accuracy: 0.5400624349635796\n",
      "\n",
      "Classification Report:\n",
      "              precision    recall  f1-score   support\n",
      "\n",
      "         0.0       0.54      1.00      0.70       519\n",
      "         1.0       0.00      0.00      0.00       442\n",
      "\n",
      "    accuracy                           0.54       961\n",
      "   macro avg       0.27      0.50      0.35       961\n",
      "weighted avg       0.29      0.54      0.38       961\n",
      "\n"
     ]
    },
    {
     "name": "stderr",
     "output_type": "stream",
     "text": [
      "c:\\Users\\charl\\OneDrive\\Documents\\GitHub\\AI-stock-price-prediction\\.venv\\Lib\\site-packages\\sklearn\\metrics\\_classification.py:1565: UndefinedMetricWarning: Precision is ill-defined and being set to 0.0 in labels with no predicted samples. Use `zero_division` parameter to control this behavior.\n",
      "  _warn_prf(average, modifier, f\"{metric.capitalize()} is\", len(result))\n",
      "c:\\Users\\charl\\OneDrive\\Documents\\GitHub\\AI-stock-price-prediction\\.venv\\Lib\\site-packages\\sklearn\\metrics\\_classification.py:1565: UndefinedMetricWarning: Precision is ill-defined and being set to 0.0 in labels with no predicted samples. Use `zero_division` parameter to control this behavior.\n",
      "  _warn_prf(average, modifier, f\"{metric.capitalize()} is\", len(result))\n",
      "c:\\Users\\charl\\OneDrive\\Documents\\GitHub\\AI-stock-price-prediction\\.venv\\Lib\\site-packages\\sklearn\\metrics\\_classification.py:1565: UndefinedMetricWarning: Precision is ill-defined and being set to 0.0 in labels with no predicted samples. Use `zero_division` parameter to control this behavior.\n",
      "  _warn_prf(average, modifier, f\"{metric.capitalize()} is\", len(result))\n"
     ]
    },
    {
     "data": {
      "image/png": "[encoded data removed]",
      "text/plain": [
       "<Figure size 1400x800 with 1 Axes>"
      ]
     },
     "metadata": {},
     "output_type": "display_data"
    }
   ],
   "source": [
    "last_N_days = daily_df.iloc[-N_DAYS:, :-2].values.reshape(1, N_DAYS, -1)\n",
    "prediction = model.predict(last_N_days)\n",
    "\n",
    "predicted_movement = \"UP\" if prediction > 0.5 else \"DOWN\"\n",
    "print(f\"Predicted movement: Stock will go {predicted_movement} tomorrow.\")\n",
    "\n",
    "train_predictions = (model.predict(X) > 0.5).astype(int).flatten()\n",
    "\n",
    "# Calculate accuracy and classification report\n",
    "accuracy = accuracy_score(Y, train_predictions)\n",
    "report = classification_report(Y, train_predictions)\n",
    "\n",
    "print(f\"Training Accuracy: {accuracy}\")\n",
    "print(\"\\nClassification Report:\")\n",
    "print(report)\n",
    "\n",
    "# Modify candlestick visualization to include arrows for predictions\n",
    "fig, ax = plt.subplots(figsize=(14, 8))\n",
    "\n",
    "# Plot candlesticks for the last 60 days\n",
    "candlestick_data = daily_df.iloc[-60:]\n",
    "for date, row in candlestick_data.iterrows():\n",
    "    if row[\"close\"] >= row[\"open\"]:\n",
    "        color = \"green\"\n",
    "        bottom = row[\"open\"]\n",
    "        height = row[\"close\"] - row[\"open\"]\n",
    "    else:\n",
    "        color = \"red\"\n",
    "        bottom = row[\"close\"]\n",
    "        height = row[\"open\"] - row[\"close\"]\n",
    "\n",
    "    ax.add_patch(Rectangle(\n",
    "        (mdates.date2num(date) - 0.4, bottom),\n",
    "        0.8, height,\n",
    "        facecolor=color,\n",
    "        edgecolor=color\n",
    "    ))\n",
    "    ax.vlines(date, row[\"open\"], row[\"close\"], color=color, linewidth=1.0)\n",
    "\n",
    "# Add prediction arrow for the next day\n",
    "last_close = candlestick_data[\"close\"].iloc[-1]\n",
    "arrow_color = \"blue\" if predicted_movement == \"UP\" else \"orange\"\n",
    "arrow_direction = \"^\" if predicted_movement == \"UP\" else \"v\"\n",
    "arrow_y = last_close * 1.02 if predicted_movement == \"UP\" else last_close * 0.98\n",
    "\n",
    "ax.plot(\n",
    "    mdates.date2num(candlestick_data.index[-1] + pd.Timedelta(days=1)),\n",
    "    arrow_y,\n",
    "    arrow_direction,\n",
    "    color=arrow_color,\n",
    "    markersize=10,\n",
    "    alpha=0.7,\n",
    "    label=f\"Predicted: {predicted_movement}\"\n",
    ")\n",
    "\n",
    "# Formatting\n",
    "ax.set_title(\"Stock Price Prediction with Candlestick Chart and Prediction Arrows\")\n",
    "ax.set_ylabel(\"Price\")\n",
    "ax.grid(True, alpha=0.3)\n",
    "ax.xaxis.set_major_formatter(mdates.DateFormatter(\"%Y-%m-%d\"))\n",
    "plt.xticks(rotation=45)\n",
    "plt.legend()\n",
    "plt.tight_layout()\n",
    "\n",
    "# Show the chart\n",
    "plt.show()"
   ]
  },
  {
   "cell_type": "code",
   "execution_count": 4,
   "metadata": {},
   "outputs": [
    {
     "name": "stdout",
     "output_type": "stream",
     "text": [
      "\u001b[1m1/1\u001b[0m \u001b[32m━━━━━━━━━━━━━━━━━━━━\u001b[0m\u001b[37m\u001b[0m \u001b[1m0s\u001b[0m 399ms/step\n",
      "Predicted movement: Stock will go DOWN tomorrow.\n"
     ]
    },
    {
     "data": {
      "application/vnd.plotly.v1+json": {
       "config": {
        "plotlyServerURL": "https://plot.ly"
       },
       "data": [
        {
         "close": {
          "bdata": "mpmZmZlZOEDNzMzMzIw4QDMzMzMz8zhAZmZmZmbmOECamZmZmVk4QAAAAAAAADhAZmZmZmZmN0DNzMzMzEw3QAAAAAAAwDdAZmZmZmamN0DNzMzMzEw4QDMzMzMzMzhAmpmZmZlZOECamZmZmVk4QDMzMzMz8zdAAAAAAABAOEAAAAAAAIA3QAAAAAAAQDhAzczMzMzMN0CamZmZmdk3QDMzMzMzszdAzczMzMwMOEAAAAAAAIA4QJqZmZmZ2ThAmpmZmZkZOUAAAAAAAAA5QDMzMzMzszhAAAAAAADAOEAzMzMzM/M4QGZmZmZm5jhAMzMzMzOzOUAAAAAAAEA5QM3MzMzMjDlAAAAAAADAOUAAAAAAAMA5QM3MzMzMjDpAAAAAAABAO0BmZmZmZuY7QAAAAAAAAD1AMzMzMzNzPUBmZmZmZuY+QJqZmZmZGT9AzczMzMxMP0DNzMzMzAxBQDMzMzMz80BAZmZmZmZmQEAzMzMzM5NAQM3MzMzM7EBAzczMzMzMQEBmZmZmZmZAQJqZmZmZ2T9AmpmZmZkZP0AzMzMzM7M8QAAAAAAAQD1AAAAAAADAPUCamZmZmdk9QM3MzMzMjD5AMzMzMzPzP0AzMzMzM/M/QM3MzMzMjD9A",
          "dtype": "f8"
         },
         "high": {
          "bdata": "mpmZmZlZOEDNzMzMzIw4QDMzMzMz8zhAZmZmZmbmOECamZmZmVk4QAAAAAAAADhAZmZmZmZmN0DNzMzMzEw3QAAAAAAAwDdAZmZmZmamN0DNzMzMzEw4QDMzMzMzMzhAmpmZmZlZOECamZmZmVk4QDMzMzMz8zdAAAAAAABAOEAAAAAAAIA3QAAAAAAAQDhAzczMzMzMN0CamZmZmdk3QDMzMzMzszdAzczMzMwMOEAAAAAAAIA4QJqZmZmZ2ThAmpmZmZkZOUAAAAAAAAA5QDMzMzMzszhAAAAAAADAOEAzMzMzM/M4QGZmZmZm5jhAMzMzMzOzOUAAAAAAAEA5QM3MzMzMjDlAAAAAAADAOUAAAAAAAMA5QM3MzMzMjDpAAAAAAABAO0BmZmZmZuY7QAAAAAAAAD1AMzMzMzNzPUBmZmZmZuY+QJqZmZmZGT9AzczMzMxMP0DNzMzMzAxBQDMzMzMz80BAZmZmZmZmQEAzMzMzM5NAQM3MzMzM7EBAzczMzMzMQEBmZmZmZmZAQJqZmZmZ2T9AmpmZmZkZP0AzMzMzM7M8QAAAAAAAQD1AAAAAAADAPUCamZmZmdk9QM3MzMzMjD5AMzMzMzPzP0AzMzMzM/M/QM3MzMzMjD9A",
          "dtype": "f8"
         },
         "low": {
          "bdata": "AAAAAACAOEAAAAAAAIA4QM3MzMzMjDhAmpmZmZkZOUCamZmZmdk4QGZmZmZmZjhAmpmZmZkZOEDNzMzMzIw3QGZmZmZmZjdAmpmZmZnZN0CamZmZmZk3QJqZmZmZGThAMzMzMzMzOECamZmZmVk4QM3MzMzMTDhAMzMzMzPzN0AAAAAAAAA4QJqZmZmZmTdAmpmZmZkZOEBmZmZmZmY4QDMzMzMz8zdAAAAAAAAAOEAAAAAAAIA4QDMzMzMzMzlAMzMzMzMzOUBmZmZmZiY5QJqZmZmZ2ThAAAAAAACAOEDNzMzMzMw4QAAAAAAAADlAmpmZmZnZOEAzMzMzM3M5QM3MzMzMTDlAmpmZmZnZOUAzMzMzM7M5QAAAAAAAADpAMzMzMzPzOkAzMzMzM3M7QM3MzMzMTDxAAAAAAABAPUCamZmZmZk9QDMzMzMzcz9AAAAAAABAP0DNzMzMzIw/QM3MzMzMTEFAAAAAAAAAQUCamZmZmVlAQJqZmZmZGUFAzczMzMzsQEDNzMzMzMxAQJqZmZmZWUBAzczMzMzMP0DNzMzMzMw+QAAAAAAAgDxAAAAAAAAAPUAAAAAAAAA+QAAAAAAAQD5AMzMzMzOzPkCamZmZmTlAQDMzMzMzE0BA",
          "dtype": "f8"
         },
         "name": "Stock Prices",
         "open": {
          "bdata": "AAAAAACAOEAAAAAAAIA4QM3MzMzMjDhAmpmZmZkZOUCamZmZmdk4QGZmZmZmZjhAmpmZmZkZOEDNzMzMzIw3QGZmZmZmZjdAmpmZmZnZN0CamZmZmZk3QJqZmZmZGThAMzMzMzMzOECamZmZmVk4QM3MzMzMTDhAMzMzMzPzN0AAAAAAAAA4QJqZmZmZmTdAmpmZmZkZOEBmZmZmZmY4QDMzMzMz8zdAAAAAAAAAOEAAAAAAAIA4QDMzMzMzMzlAMzMzMzMzOUBmZmZmZiY5QJqZmZmZ2ThAAAAAAACAOEDNzMzMzMw4QAAAAAAAADlAmpmZmZnZOEAzMzMzM3M5QM3MzMzMTDlAmpmZmZnZOUAzMzMzM7M5QAAAAAAAADpAMzMzMzPzOkAzMzMzM3M7QM3MzMzMTDxAAAAAAABAPUCamZmZmZk9QDMzMzMzcz9AAAAAAABAP0DNzMzMzIw/QM3MzMzMTEFAAAAAAAAAQUCamZmZmVlAQJqZmZmZGUFAzczMzMzsQEDNzMzMzMxAQJqZmZmZWUBAzczMzMzMP0DNzMzMzMw+QAAAAAAAgDxAAAAAAAAAPUAAAAAAAAA+QAAAAAAAQD5AMzMzMzOzPkCamZmZmTlAQDMzMzMzE0BA",
          "dtype": "f8"
         },
         "type": "candlestick",
         "x": [
          "2020-10-07",
          "2020-10-08",
          "2020-10-09",
          "2020-10-12",
          "2020-10-13",
          "2020-10-14",
          "2020-10-15",
          "2020-10-16",
          "2020-10-19",
          "2020-10-20",
          "2020-10-21",
          "2020-10-22",
          "2020-10-23",
          "2020-10-26",
          "2020-10-27",
          "2020-10-28",
          "2020-10-29",
          "2020-10-30",
          "2020-11-02",
          "2020-11-03",
          "2020-11-04",
          "2020-11-05",
          "2020-11-06",
          "2020-11-09",
          "2020-11-10",
          "2020-11-11",
          "2020-11-12",
          "2020-11-13",
          "2020-11-14",
          "2020-11-17",
          "2020-11-18",
          "2020-11-19",
          "2020-11-20",
          "2020-11-23",
          "2020-11-24",
          "2020-11-25",
          "2020-11-26",
          "2020-11-27",
          "2020-12-01",
          "2020-12-02",
          "2020-12-03",
          "2020-12-04",
          "2020-12-07",
          "2020-12-08",
          "2020-12-09",
          "2020-12-10",
          "2020-12-11",
          "2020-12-14",
          "2020-12-15",
          "2020-12-16",
          "2020-12-17",
          "2020-12-18",
          "2020-12-21",
          "2020-12-22",
          "2020-12-23",
          "2020-12-24",
          "2020-12-28",
          "2020-12-29",
          "2020-12-30",
          "2020-12-31"
         ]
        },
        {
         "marker": {
          "color": "red",
          "size": 10
         },
         "mode": "markers+text",
         "name": "Prediction",
         "text": [
          "Predicted: DOWN"
         ],
         "textposition": "top center",
         "type": "scatter",
         "x": [
          "2021-01-01"
         ],
         "y": [
          31.55
         ]
        }
       ],
       "layout": {
        "template": {
         "data": {
          "bar": [
           {
            "error_x": {
             "color": "#2a3f5f"
            },
            "error_y": {
             "color": "#2a3f5f"
            },
            "marker": {
             "line": {
              "color": "#E5ECF6",
              "width": 0.5
             },
             "pattern": {
              "fillmode": "overlay",
              "size": 10,
              "solidity": 0.2
             }
            },
            "type": "bar"
           }
          ],
          "barpolar": [
           {
            "marker": {
             "line": {
              "color": "#E5ECF6",
              "width": 0.5
             },
             "pattern": {
              "fillmode": "overlay",
              "size": 10,
              "solidity": 0.2
             }
            },
            "type": "barpolar"
           }
          ],
          "carpet": [
           {
            "aaxis": {
             "endlinecolor": "#2a3f5f",
             "gridcolor": "white",
             "linecolor": "white",
             "minorgridcolor": "white",
             "startlinecolor": "#2a3f5f"
            },
            "baxis": {
             "endlinecolor": "#2a3f5f",
             "gridcolor": "white",
             "linecolor": "white",
             "minorgridcolor": "white",
             "startlinecolor": "#2a3f5f"
            },
            "type": "carpet"
           }
          ],
          "choropleth": [
           {
            "colorbar": {
             "outlinewidth": 0,
             "ticks": ""
            },
            "type": "choropleth"
           }
          ],
          "contour": [
           {
            "colorbar": {
             "outlinewidth": 0,
             "ticks": ""
            },
            "colorscale": [
             [
              0,
              "#0d0887"
             ],
             [
              0.1111111111111111,
              "#46039f"
             ],
             [
              0.2222222222222222,
              "#7201a8"
             ],
             [
              0.3333333333333333,
              "#9c179e"
             ],
             [
              0.4444444444444444,
              "#bd3786"
             ],
             [
              0.5555555555555556,
              "#d8576b"
             ],
             [
              0.6666666666666666,
              "#ed7953"
             ],
             [
              0.7777777777777778,
              "#fb9f3a"
             ],
             [
              0.8888888888888888,
              "#fdca26"
             ],
             [
              1,
              "#f0f921"
             ]
            ],
            "type": "contour"
           }
          ],
          "contourcarpet": [
           {
            "colorbar": {
             "outlinewidth": 0,
             "ticks": ""
            },
            "type": "contourcarpet"
           }
          ],
          "heatmap": [
           {
            "colorbar": {
             "outlinewidth": 0,
             "ticks": ""
            },
            "colorscale": [
             [
              0,
              "#0d0887"
             ],
             [
              0.1111111111111111,
              "#46039f"
             ],
             [
              0.2222222222222222,
              "#7201a8"
             ],
             [
              0.3333333333333333,
              "#9c179e"
             ],
             [
              0.4444444444444444,
              "#bd3786"
             ],
             [
              0.5555555555555556,
              "#d8576b"
             ],
             [
              0.6666666666666666,
              "#ed7953"
             ],
             [
              0.7777777777777778,
              "#fb9f3a"
             ],
             [
              0.8888888888888888,
              "#fdca26"
             ],
             [
              1,
              "#f0f921"
             ]
            ],
            "type": "heatmap"
           }
          ],
          "histogram": [
           {
            "marker": {
             "pattern": {
              "fillmode": "overlay",
              "size": 10,
              "solidity": 0.2
             }
            },
            "type": "histogram"
           }
          ],
          "histogram2d": [
           {
            "colorbar": {
             "outlinewidth": 0,
             "ticks": ""
            },
            "colorscale": [
             [
              0,
              "#0d0887"
             ],
             [
              0.1111111111111111,
              "#46039f"
             ],
             [
              0.2222222222222222,
              "#7201a8"
             ],
             [
              0.3333333333333333,
              "#9c179e"
             ],
             [
              0.4444444444444444,
              "#bd3786"
             ],
             [
              0.5555555555555556,
              "#d8576b"
             ],
             [
              0.6666666666666666,
              "#ed7953"
             ],
             [
              0.7777777777777778,
              "#fb9f3a"
             ],
             [
              0.8888888888888888,
              "#fdca26"
             ],
             [
              1,
              "#f0f921"
             ]
            ],
            "type": "histogram2d"
           }
          ],
          "histogram2dcontour": [
           {
            "colorbar": {
             "outlinewidth": 0,
             "ticks": ""
            },
            "colorscale": [
             [
              0,
              "#0d0887"
             ],
             [
              0.1111111111111111,
              "#46039f"
             ],
             [
              0.2222222222222222,
              "#7201a8"
             ],
             [
              0.3333333333333333,
              "#9c179e"
             ],
             [
              0.4444444444444444,
              "#bd3786"
             ],
             [
              0.5555555555555556,
              "#d8576b"
             ],
             [
              0.6666666666666666,
              "#ed7953"
             ],
             [
              0.7777777777777778,
              "#fb9f3a"
             ],
             [
              0.8888888888888888,
              "#fdca26"
             ],
             [
              1,
              "#f0f921"
             ]
            ],
            "type": "histogram2dcontour"
           }
          ],
          "mesh3d": [
           {
            "colorbar": {
             "outlinewidth": 0,
             "ticks": ""
            },
            "type": "mesh3d"
           }
          ],
          "parcoords": [
           {
            "line": {
             "colorbar": {
              "outlinewidth": 0,
              "ticks": ""
             }
            },
            "type": "parcoords"
           }
          ],
          "pie": [
           {
            "automargin": true,
            "type": "pie"
           }
          ],
          "scatter": [
           {
            "fillpattern": {
             "fillmode": "overlay",
             "size": 10,
             "solidity": 0.2
            },
            "type": "scatter"
           }
          ],
          "scatter3d": [
           {
            "line": {
             "colorbar": {
              "outlinewidth": 0,
              "ticks": ""
             }
            },
            "marker": {
             "colorbar": {
              "outlinewidth": 0,
              "ticks": ""
             }
            },
            "type": "scatter3d"
           }
          ],
          "scattercarpet": [
           {
            "marker": {
             "colorbar": {
              "outlinewidth": 0,
              "ticks": ""
             }
            },
            "type": "scattercarpet"
           }
          ],
          "scattergeo": [
           {
            "marker": {
             "colorbar": {
              "outlinewidth": 0,
              "ticks": ""
             }
            },
            "type": "scattergeo"
           }
          ],
          "scattergl": [
           {
            "marker": {
             "colorbar": {
              "outlinewidth": 0,
              "ticks": ""
             }
            },
            "type": "scattergl"
           }
          ],
          "scattermap": [
           {
            "marker": {
             "colorbar": {
              "outlinewidth": 0,
              "ticks": ""
             }
            },
            "type": "scattermap"
           }
          ],
          "scattermapbox": [
           {
            "marker": {
             "colorbar": {
              "outlinewidth": 0,
              "ticks": ""
             }
            },
            "type": "scattermapbox"
           }
          ],
          "scatterpolar": [
           {
            "marker": {
             "colorbar": {
              "outlinewidth": 0,
              "ticks": ""
             }
            },
            "type": "scatterpolar"
           }
          ],
          "scatterpolargl": [
           {
            "marker": {
             "colorbar": {
              "outlinewidth": 0,
              "ticks": ""
             }
            },
            "type": "scatterpolargl"
           }
          ],
          "scatterternary": [
           {
            "marker": {
             "colorbar": {
              "outlinewidth": 0,
              "ticks": ""
             }
            },
            "type": "scatterternary"
           }
          ],
          "surface": [
           {
            "colorbar": {
             "outlinewidth": 0,
             "ticks": ""
            },
            "colorscale": [
             [
              0,
              "#0d0887"
             ],
             [
              0.1111111111111111,
              "#46039f"
             ],
             [
              0.2222222222222222,
              "#7201a8"
             ],
             [
              0.3333333333333333,
              "#9c179e"
             ],
             [
              0.4444444444444444,
              "#bd3786"
             ],
             [
              0.5555555555555556,
              "#d8576b"
             ],
             [
              0.6666666666666666,
              "#ed7953"
             ],
             [
              0.7777777777777778,
              "#fb9f3a"
             ],
             [
              0.8888888888888888,
              "#fdca26"
             ],
             [
              1,
              "#f0f921"
             ]
            ],
            "type": "surface"
           }
          ],
          "table": [
           {
            "cells": {
             "fill": {
              "color": "#EBF0F8"
             },
             "line": {
              "color": "white"
             }
            },
            "header": {
             "fill": {
              "color": "#C8D4E3"
             },
             "line": {
              "color": "white"
             }
            },
            "type": "table"
           }
          ]
         },
         "layout": {
          "annotationdefaults": {
           "arrowcolor": "#2a3f5f",
           "arrowhead": 0,
           "arrowwidth": 1
          },
          "autotypenumbers": "strict",
          "coloraxis": {
           "colorbar": {
            "outlinewidth": 0,
            "ticks": ""
           }
          },
          "colorscale": {
           "diverging": [
            [
             0,
             "#8e0152"
            ],
            [
             0.1,
             "#c51b7d"
            ],
            [
             0.2,
             "#de77ae"
            ],
            [
             0.3,
             "#f1b6da"
            ],
            [
             0.4,
             "#fde0ef"
            ],
            [
             0.5,
             "#f7f7f7"
            ],
            [
             0.6,
             "#e6f5d0"
            ],
            [
             0.7,
             "#b8e186"
            ],
            [
             0.8,
             "#7fbc41"
            ],
            [
             0.9,
             "#4d9221"
            ],
            [
             1,
             "#276419"
            ]
           ],
           "sequential": [
            [
             0,
             "#0d0887"
            ],
            [
             0.1111111111111111,
             "#46039f"
            ],
            [
             0.2222222222222222,
             "#7201a8"
            ],
            [
             0.3333333333333333,
             "#9c179e"
            ],
            [
             0.4444444444444444,
             "#bd3786"
            ],
            [
             0.5555555555555556,
             "#d8576b"
            ],
            [
             0.6666666666666666,
             "#ed7953"
            ],
            [
             0.7777777777777778,
             "#fb9f3a"
            ],
            [
             0.8888888888888888,
             "#fdca26"
            ],
            [
             1,
             "#f0f921"
            ]
           ],
           "sequentialminus": [
            [
             0,
             "#0d0887"
            ],
            [
             0.1111111111111111,
             "#46039f"
            ],
            [
             0.2222222222222222,
             "#7201a8"
            ],
            [
             0.3333333333333333,
             "#9c179e"
            ],
            [
             0.4444444444444444,
             "#bd3786"
            ],
            [
             0.5555555555555556,
             "#d8576b"
            ],
            [
             0.6666666666666666,
             "#ed7953"
            ],
            [
             0.7777777777777778,
             "#fb9f3a"
            ],
            [
             0.8888888888888888,
             "#fdca26"
            ],
            [
             1,
             "#f0f921"
            ]
           ]
          },
          "colorway": [
           "#636efa",
           "#EF553B",
           "#00cc96",
           "#ab63fa",
           "#FFA15A",
           "#19d3f3",
           "#FF6692",
           "#B6E880",
           "#FF97FF",
           "#FECB52"
          ],
          "font": {
           "color": "#2a3f5f"
          },
          "geo": {
           "bgcolor": "white",
           "lakecolor": "white",
           "landcolor": "#E5ECF6",
           "showlakes": true,
           "showland": true,
           "subunitcolor": "white"
          },
          "hoverlabel": {
           "align": "left"
          },
          "hovermode": "closest",
          "mapbox": {
           "style": "light"
          },
          "paper_bgcolor": "white",
          "plot_bgcolor": "#E5ECF6",
          "polar": {
           "angularaxis": {
            "gridcolor": "white",
            "linecolor": "white",
            "ticks": ""
           },
           "bgcolor": "#E5ECF6",
           "radialaxis": {
            "gridcolor": "white",
            "linecolor": "white",
            "ticks": ""
           }
          },
          "scene": {
           "xaxis": {
            "backgroundcolor": "#E5ECF6",
            "gridcolor": "white",
            "gridwidth": 2,
            "linecolor": "white",
            "showbackground": true,
            "ticks": "",
            "zerolinecolor": "white"
           },
           "yaxis": {
            "backgroundcolor": "#E5ECF6",
            "gridcolor": "white",
            "gridwidth": 2,
            "linecolor": "white",
            "showbackground": true,
            "ticks": "",
            "zerolinecolor": "white"
           },
           "zaxis": {
            "backgroundcolor": "#E5ECF6",
            "gridcolor": "white",
            "gridwidth": 2,
            "linecolor": "white",
            "showbackground": true,
            "ticks": "",
            "zerolinecolor": "white"
           }
          },
          "shapedefaults": {
           "line": {
            "color": "#2a3f5f"
           }
          },
          "ternary": {
           "aaxis": {
            "gridcolor": "white",
            "linecolor": "white",
            "ticks": ""
           },
           "baxis": {
            "gridcolor": "white",
            "linecolor": "white",
            "ticks": ""
           },
           "bgcolor": "#E5ECF6",
           "caxis": {
            "gridcolor": "white",
            "linecolor": "white",
            "ticks": ""
           }
          },
          "title": {
           "x": 0.05
          },
          "xaxis": {
           "automargin": true,
           "gridcolor": "white",
           "linecolor": "white",
           "ticks": "",
           "title": {
            "standoff": 15
           },
           "zerolinecolor": "white",
           "zerolinewidth": 2
          },
          "yaxis": {
           "automargin": true,
           "gridcolor": "white",
           "linecolor": "white",
           "ticks": "",
           "title": {
            "standoff": 15
           },
           "zerolinecolor": "white",
           "zerolinewidth": 2
          }
         }
        },
        "title": {
         "text": "Stock Price Prediction with Candlestick Chart"
        },
        "xaxis": {
         "rangeslider": {
          "visible": false
         },
         "title": {
          "text": "Date"
         }
        },
        "yaxis": {
         "title": {
          "text": "Price"
         }
        }
       }
      }
     },
     "metadata": {},
     "output_type": "display_data"
    }
   ],
   "source": [
    "# Predict the next day's movement using the last N days of data\n",
    "last_N_days = daily_df.iloc[-N_DAYS:, :-2].values.reshape(1, N_DAYS, -1)\n",
    "prediction = model.predict(last_N_days)\n",
    "\n",
    "predicted_movement = \"UP\" if prediction > 0.5 else \"DOWN\"\n",
    "print(f\"Predicted movement: Stock will go {predicted_movement} tomorrow.\")\n",
    "\n",
    "# Plot the candlestick chart for the last 60 days\n",
    "candlestick_data = daily_df.iloc[-60:]  # Last 60 days for visualization\n",
    "\n",
    "fig = go.Figure(data=[\n",
    "    go.Candlestick(\n",
    "        x=candlestick_data.index,\n",
    "        open=candlestick_data[\"open\"],\n",
    "        high=candlestick_data[\"close\"],  # Assuming high is not available, using close\n",
    "        low=candlestick_data[\"open\"],   # Assuming low is not available, using open\n",
    "        close=candlestick_data[\"close\"],\n",
    "        name=\"Stock Prices\"\n",
    "    )\n",
    "])\n",
    "\n",
    "# Add a marker for the predicted movement\n",
    "fig.add_trace(go.Scatter(\n",
    "    x=[candlestick_data.index[-1] + pd.Timedelta(days=1)],  # Next day\n",
    "    y=[candlestick_data[\"close\"].iloc[-1]],  # Last close price\n",
    "    mode=\"markers+text\",\n",
    "    marker=dict(color=\"red\" if predicted_movement == \"DOWN\" else \"green\", size=10),\n",
    "    text=[f\"Predicted: {predicted_movement}\"],\n",
    "    textposition=\"top center\",\n",
    "    name=\"Prediction\"\n",
    "))\n",
    "\n",
    "# Update layout\n",
    "fig.update_layout(\n",
    "    title=\"Stock Price Prediction with Candlestick Chart\",\n",
    "    xaxis_title=\"Date\",\n",
    "    yaxis_title=\"Price\",\n",
    "    xaxis_rangeslider_visible=False\n",
    ")\n",
    "\n",
    "# Show the chart\n",
    "fig.show()\n"
   ]
  }
 ],
 "metadata": {
  "kernelspec": {
   "display_name": ".venv",
   "language": "python",
   "name": "python3"
  },
  "language_info": {
   "codemirror_mode": {
    "name": "ipython",
    "version": 3
   },
   "file_extension": ".py",
   "mimetype": "text/x-python",
   "name": "python",
   "nbconvert_exporter": "python",
   "pygments_lexer": "ipython3",
   "version": "3.11.5"
  }
 },
 "nbformat": 4,
 "nbformat_minor": 2
}
